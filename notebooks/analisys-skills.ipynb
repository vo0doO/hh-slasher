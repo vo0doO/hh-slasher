{
 "cells": [
  {
   "cell_type": "code",
   "execution_count": null,
   "metadata": {},
   "outputs": [],
   "source": [
    "import pandas as pd\n",
    "df = pd.read_csv(r'/Users/oksanavalerevna/development/hh-dev/result/hh.csv', sep='\\t')\n",
    "\n",
    "find='black'\n",
    "\n",
    "df = df[['vacancy_name','vacancy_url', 'vacancy_description', 'vacancy_skills']]\n",
    "\n",
    "total_vacancies = len(df)\n",
    "\n",
    "mask_desc = df[\"vacancy_description\"].str.contains(find, na=False, case=False, regex=True)\n",
    "mask_skills = df[\"vacancy_skills\"].str.contains(find, na=False, case=False, regex=True)\n",
    "mask = mask_desc | mask_skills\n",
    "\n",
    "total_df = df.loc[mask]\n",
    "skills_df = df.loc[mask_skills]\n",
    "desc_df = df.loc[mask_desc]\n",
    "\n",
    "desc_count = len(df.loc[mask_desc])\n",
    "skills_count = len(df.loc[mask_skills])\n",
    "total_count = len(total_df)\n",
    "\n",
    "print(f\"Всего вакансий: {total_vacancies}\")\n",
    "print(f'{find} встречается в:')\n",
    "print(f\"Описании: {desc_count} ({desc_count / total_vacancies:.2%})\")\n",
    "print(f\"Скилах: {skills_count} ({skills_count / total_vacancies:.2%})\")\n",
    "print(f\"Всего: {total_count} ({total_count / total_vacancies:.2%})\")"
   ]
  }
 ],
 "metadata": {
  "kernelspec": {
   "display_name": ".venv",
   "language": "python",
   "name": "python3"
  },
  "language_info": {
   "codemirror_mode": {
    "name": "ipython",
    "version": 3
   },
   "file_extension": ".py",
   "mimetype": "text/x-python",
   "name": "python",
   "nbconvert_exporter": "python",
   "pygments_lexer": "ipython3",
   "version": "3.13.2"
  }
 },
 "nbformat": 4,
 "nbformat_minor": 2
}
