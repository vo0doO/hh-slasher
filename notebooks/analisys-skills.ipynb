{
 "cells": [
  {
   "cell_type": "code",
   "execution_count": 5,
   "metadata": {},
   "outputs": [
    {
     "name": "stdout",
     "output_type": "stream",
     "text": [
      "Всего вакансий: 105\n",
      "Beanie встречается в:\n",
      "Описании: 1 (0.95%)\n",
      "Скилах: 0 (0.00%)\n",
      "Всего: 1 (0.95%)\n"
     ]
    }
   ],
   "source": [
    "import pandas as pd\n",
    "df = pd.read_csv(r'/Users/oksanavalerevna/development/hh-dev/result/hh.csv', sep='\\t', engine='pyarrow')\n",
    "\n",
    "find='Beanie'\n",
    "\n",
    "df = df[['vacancy_name','vacancy_url', 'vacancy_description', 'vacancy_skills']]\n",
    "\n",
    "# Общее количество вакансий\n",
    "total_vacancies = len(df)\n",
    "\n",
    "# Поиск \"ORM\" в description\n",
    "mask_desc = df[\"vacancy_description\"].str.contains(find, na=False, case=False, regex=True)\n",
    "\n",
    "# Поиск \"ORM\" в skills\n",
    "mask_skills = df[\"vacancy_skills\"].str.contains(find, na=False, case=False, regex=True)\n",
    "\n",
    "# Объединяем оба условия\n",
    "mask = mask_desc | mask_skills\n",
    "\n",
    "# Фильтруем DataFrame\n",
    "result_df = df.loc[mask]\n",
    "\n",
    "# Количество найденных вакансий\n",
    "desc_count = len(df.loc[mask_desc])\n",
    "skills_count = len(df.loc[mask_skills])\n",
    "total_count = len(result_df)\n",
    "\n",
    "# Вывод результатов\n",
    "print(f\"Всего вакансий: {total_vacancies}\")\n",
    "print(f'{find} встречается в:')\n",
    "print(f\"Описании: {desc_count} ({desc_count / total_vacancies:.2%})\")\n",
    "print(f\"Скилах: {skills_count} ({skills_count / total_vacancies:.2%})\")\n",
    "print(f\"Всего: {total_count} ({total_count / total_vacancies:.2%})\")"
   ]
  }
 ],
 "metadata": {
  "kernelspec": {
   "display_name": "Python 3",
   "language": "python",
   "name": "python3"
  },
  "language_info": {
   "codemirror_mode": {
    "name": "ipython",
    "version": 3
   },
   "file_extension": ".py",
   "mimetype": "text/x-python",
   "name": "python",
   "nbconvert_exporter": "python",
   "pygments_lexer": "ipython3",
   "version": "3.13.1"
  }
 },
 "nbformat": 4,
 "nbformat_minor": 2
}
